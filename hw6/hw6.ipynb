{
 "cells": [
  {
   "cell_type": "code",
   "execution_count": 133,
   "metadata": {},
   "outputs": [],
   "source": [
    "import numpy as np\n",
    "import cv2\n",
    "import matplotlib.pyplot as pp\n",
    "import math"
   ]
  },
  {
   "cell_type": "code",
   "execution_count": 134,
   "metadata": {},
   "outputs": [],
   "source": [
    "# First method, from <Fast Noise Variance Estimation>"
   ]
  },
  {
   "cell_type": "code",
   "execution_count": 184,
   "metadata": {},
   "outputs": [],
   "source": [
    "sigma = 20"
   ]
  },
  {
   "cell_type": "code",
   "execution_count": 185,
   "metadata": {},
   "outputs": [],
   "source": [
    "S = np.array(cv2.imread(\"cameraman.png\", cv2.IMREAD_GRAYSCALE))\n",
    "N = np.array([[1, -2, 1], [-2, 4, -2], [1, -2, 1]])"
   ]
  },
  {
   "cell_type": "code",
   "execution_count": 186,
   "metadata": {},
   "outputs": [],
   "source": [
    "Sw, Sh = S.shape\n",
    "Nw, Nh = N.shape"
   ]
  },
  {
   "cell_type": "code",
   "execution_count": 187,
   "metadata": {},
   "outputs": [],
   "source": [
    "SN = np.random.normal(0, sigma, S.shape)\n",
    "I = S + SN"
   ]
  },
  {
   "cell_type": "code",
   "execution_count": 188,
   "metadata": {},
   "outputs": [],
   "source": [
    "def multsum(A1, A2):\n",
    "    return np.sum(np.sum(np.multiply(A1, A2)))"
   ]
  },
  {
   "cell_type": "code",
   "execution_count": 189,
   "metadata": {},
   "outputs": [],
   "source": [
    "sum = 0\n",
    "for r in range(0, Sw-2):\n",
    "    for c in range(0, Sh-2):\n",
    "        neighbors = I[r:r+3, c:c+3]\n",
    "        sum += multsum(neighbors, N)**2.0\n",
    "        "
   ]
  },
  {
   "cell_type": "code",
   "execution_count": 190,
   "metadata": {},
   "outputs": [
    {
     "name": "stdout",
     "output_type": "stream",
     "text": [
      "20 21.338614198415144\n"
     ]
    }
   ],
   "source": [
    "estimated_sigma = np.sqrt(sum/(36*(Sw-2)*(Sh-2)))\n",
    "print(sigma, estimated_sigma)"
   ]
  },
  {
   "cell_type": "code",
   "execution_count": 200,
   "metadata": {},
   "outputs": [],
   "source": [
    "# Second method, from Fast Method for Noise Level Estimation and Integrated Noise Reduction \n",
    "# by Angelo Bosco1, Arcangelo Bruna1,  Giuseppe Messina1, Giuseppe Spampinato1\n",
    "#\n",
    "# The crux of the algorithm is, \n",
    "# 1. Pixel differences in a homogenous region is mostly due to noise\n",
    "# 2. Almost no noise signal exceeds 3sigma\n",
    "# 3. Hence, taking the 68th percentile of the noise signals that are within 3sigma\n",
    "#    will give us an estimation of the actual sigma"
   ]
  },
  {
   "cell_type": "code",
   "execution_count": 201,
   "metadata": {},
   "outputs": [],
   "source": [
    "sigma_max = sigma*3"
   ]
  },
  {
   "cell_type": "code",
   "execution_count": 202,
   "metadata": {},
   "outputs": [],
   "source": [
    "def flatten(neighbors):\n",
    "    return neighbors.reshape(neighbors.size)\n",
    "\n",
    "def test(neighbors): # tests the homogenity of the neighborhood\n",
    "    flat = flatten(neighbors)\n",
    "    centerV = flat[4]\n",
    "    omit_center = flat[np.arange(flat.size)!=4]\n",
    "    d = np.abs(omit_center - centerV)\n",
    "    return np.all(d < sigma_max), d"
   ]
  },
  {
   "cell_type": "code",
   "execution_count": 203,
   "metadata": {},
   "outputs": [],
   "source": [
    "ds = []\n",
    "for r in range(0, Sw-2):\n",
    "    for c in range(0, Sh-2):\n",
    "        neighbors = I[r:r+3, c:c+3] # might consider another way of picking the neighbors\n",
    "        is_homogenous, d = test(neighbors)\n",
    "        ds.extend(d if is_homogenous else [])\n",
    "     "
   ]
  },
  {
   "cell_type": "code",
   "execution_count": 204,
   "metadata": {},
   "outputs": [],
   "source": [
    "v, bins = np.histogram(ds, 1000)\n",
    "cumv = np.cumsum(v[1:])\n",
    "b = bins[1:]"
   ]
  },
  {
   "cell_type": "code",
   "execution_count": 205,
   "metadata": {},
   "outputs": [
    {
     "name": "stdout",
     "output_type": "stream",
     "text": [
      "20 25.85940980433985\n"
     ]
    }
   ],
   "source": [
    "estimated_sigma = 0\n",
    "for i in range(len(cumv)):\n",
    "    if cumv[i] > cumv[-1]*0.68:\n",
    "        estimated_sigma = b[i]\n",
    "        break\n",
    "print(sigma, estimated_sigma)"
   ]
  },
  {
   "cell_type": "code",
   "execution_count": null,
   "metadata": {},
   "outputs": [],
   "source": []
  },
  {
   "cell_type": "code",
   "execution_count": null,
   "metadata": {},
   "outputs": [],
   "source": []
  },
  {
   "cell_type": "code",
   "execution_count": null,
   "metadata": {},
   "outputs": [],
   "source": []
  },
  {
   "cell_type": "code",
   "execution_count": null,
   "metadata": {},
   "outputs": [],
   "source": []
  }
 ],
 "metadata": {
  "kernelspec": {
   "display_name": "venv",
   "language": "python",
   "name": "venv"
  },
  "language_info": {
   "codemirror_mode": {
    "name": "ipython",
    "version": 3
   },
   "file_extension": ".py",
   "mimetype": "text/x-python",
   "name": "python",
   "nbconvert_exporter": "python",
   "pygments_lexer": "ipython3",
   "version": "3.7.5"
  }
 },
 "nbformat": 4,
 "nbformat_minor": 4
}
